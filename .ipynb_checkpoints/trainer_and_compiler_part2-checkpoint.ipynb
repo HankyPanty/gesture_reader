{
 "cells": [
  {
   "cell_type": "code",
   "execution_count": 1,
   "metadata": {},
   "outputs": [],
   "source": [
    "import tensorflow as tf\n",
    "import matplotlib.pyplot as plt\n",
    "import numpy as np\n",
    "import cv2\n",
    "import time"
   ]
  },
  {
   "cell_type": "code",
   "execution_count": 2,
   "metadata": {},
   "outputs": [
    {
     "name": "stdout",
     "output_type": "stream",
     "text": [
      "Epoch 1/4\n",
      "630/630 [==============================] - 1s 2ms/step - loss: 0.9373 - acc: 0.7222\n",
      "Epoch 2/4\n",
      "630/630 [==============================] - 1s 1ms/step - loss: 0.3285 - acc: 0.9857\n",
      "Epoch 3/4\n",
      "630/630 [==============================] - 1s 2ms/step - loss: 0.2642 - acc: 0.9937\n",
      "Epoch 4/4\n",
      "630/630 [==============================] - 1s 1ms/step - loss: 0.2154 - acc: 1.0000\n",
      "70/70 [==============================] - 0s 1ms/step\n",
      "\n",
      "\n",
      "loss    %:  0.7503969158445086 \n",
      "accuracy%:  0.9285714285714286 \n",
      "\n",
      "\n",
      "\n",
      "\n",
      "Model SAVED\n",
      "\n",
      "\n"
     ]
    }
   ],
   "source": [
    "x_train=[]\n",
    "x_test=[]\n",
    "y_train=[]\n",
    "y_test=[]\n",
    "\n",
    "####################### Creating the dataset\n",
    "i=0\n",
    "while(i<100):\n",
    "    if(i%10):\n",
    "        x_train.append(cv2.imread('data/zero/'+str(i)+'.jpeg'));y_train.append(0)\n",
    "        x_train.append(cv2.imread('data/one/1'+str(i).zfill(2)+'.jpeg'));y_train.append(1)\n",
    "        x_train.append(cv2.imread('data/two/2'+str(i).zfill(2)+'.jpeg'));y_train.append(2)\n",
    "        x_train.append(cv2.imread('data/three/3'+str(i).zfill(2)+'.jpeg'));y_train.append(3)\n",
    "        x_train.append(cv2.imread('data/four/4'+str(i).zfill(2)+'.jpeg'));y_train.append(4)\n",
    "        x_train.append(cv2.imread('data/five/5'+str(i).zfill(2)+'.jpeg'));y_train.append(5)\n",
    "        x_train.append(cv2.imread('data/none/6'+str(i).zfill(2)+'.jpeg'));y_train.append(6)\n",
    "        i+=1\n",
    "    else:\n",
    "        x_test.append(cv2.imread('data/zero/'+str(i)+'.jpeg'));y_test.append(0)\n",
    "        x_test.append(cv2.imread('data/one/1'+str(i).zfill(2)+'.jpeg'));y_test.append(1)\n",
    "        x_test.append(cv2.imread('data/two/2'+str(i).zfill(2)+'.jpeg'));y_test.append(2)\n",
    "        x_test.append(cv2.imread('data/three/3'+str(i).zfill(2)+'.jpeg'));y_test.append(3)\n",
    "        x_test.append(cv2.imread('data/four/4'+str(i).zfill(2)+'.jpeg'));y_test.append(4)\n",
    "        x_test.append(cv2.imread('data/five/5'+str(i).zfill(2)+'.jpeg'));y_test.append(5)\n",
    "        x_test.append(cv2.imread('data/none/6'+str(i).zfill(2)+'.jpeg'));y_test.append(6)\n",
    "        i+=1\n",
    "\n",
    "######################## Normalizing the data\n",
    "x_train=tf.keras.utils.normalize(x_train,axis=1)\n",
    "x_test=tf.keras.utils.normalize(x_test,axis=1)\n",
    "y_train=np.asarray(y_train)\n",
    "y_test=np.asarray(y_test) \n",
    "\n",
    "model=tf.keras.models.Sequential()\n",
    "\n",
    "######################### layers in model\n",
    "model.add(tf.keras.layers.Flatten())\n",
    "model.add(tf.keras.layers.Dense(128, activation=tf.nn.relu))\n",
    "model.add(tf.keras.layers.Dense(128, activation=tf.nn.relu))\n",
    "model.add(tf.keras.layers.Dense(7,activation=tf.nn.softmax))\n",
    "\n",
    "######################### properties of model\n",
    "model.compile(optimizer='adam',loss='sparse_categorical_crossentropy',metrics=['accuracy'])\n",
    "\n",
    "######################### running/training the model on x_train\n",
    "model.fit(x_train,y_train, epochs=4)\n",
    "\n",
    "######################### testing model on x_test and calculating Accuracy, prediction values.\n",
    "val_loss,val_acc=model.evaluate(x_test,y_test)\n",
    "print(\"\\n\\nloss    %: \",val_loss, \"\\naccuracy%: \",val_acc,\"\\n\\n\")\n",
    "prediction=model.predict([x_test])\n",
    "\n",
    "######################### Saving the model as gesture_model\n",
    "tf.keras.models.save_model(\n",
    "    model,\n",
    "    \"final_model.model\",\n",
    "    overwrite=True,\n",
    "    include_optimizer=True\n",
    ")\n",
    "print(\"\\n\\nModel SAVED\\n\\n\")"
   ]
  },
  {
   "cell_type": "code",
   "execution_count": 4,
   "metadata": {},
   "outputs": [
    {
     "name": "stdout",
     "output_type": "stream",
     "text": [
      "prediction:  1\n",
      "actual    :  1\n"
     ]
    },
    {
     "data": {
      "image/png": "[encoded data removed]",
      "text/plain": [
       "<Figure size 432x288 with 1 Axes>"
      ]
     },
     "metadata": {
      "needs_background": "light"
     },
     "output_type": "display_data"
    }
   ],
   "source": [
    "######################### testing for random image in x_test[i]\n",
    "i=29\n",
    "print(\"prediction: \",np.argmax(prediction[i]))\n",
    "print(\"actual    : \",y_test[i])\n",
    "plt.imshow(x_test[i],cmap=plt.cm.binary)\n",
    "plt.show()"
   ]
  },
  {
   "cell_type": "code",
   "execution_count": 10,
   "metadata": {},
   "outputs": [],
   "source": [
    "import subprocess as sp\n",
    "from imutils.video import VideoStream\n",
    "from imutils.video import FPS\n",
    "import time"
   ]
  },
  {
   "cell_type": "code",
   "execution_count": 11,
   "metadata": {},
   "outputs": [
    {
     "name": "stdout",
     "output_type": "stream",
     "text": [
      "[INFO] starting video stream...\n",
      "\n",
      " 0 \n",
      "\n",
      "\n",
      " 0 \n",
      "\n",
      "\n",
      " 5 \n",
      "\n",
      "\n",
      " 6 \n",
      "\n",
      "\n",
      "\n",
      "\n",
      "HAAND NOT DETECTED\n",
      "\n",
      "\n",
      "\n",
      " 5 \n",
      "\n",
      "\n",
      " 2 \n",
      "\n",
      "\n",
      " 2 \n",
      "\n",
      "\n",
      " 5 \n",
      "\n",
      "\n",
      " 5 \n",
      "\n",
      "\n",
      " 2 \n",
      "\n",
      "\n",
      " 2 \n",
      "\n",
      "\n",
      " 2 \n",
      "\n",
      "\n",
      " 2 \n",
      "\n",
      "\n",
      " 4 \n",
      "\n"
     ]
    }
   ],
   "source": [
    "print(\"[INFO] starting video stream...\")\n",
    "vs = VideoStream(src=0).start()\n",
    "\n",
    "ind=0;indn=0;ctr=0;\n",
    "while True:\n",
    "    framee=vs.read()\n",
    "    framee=cv2.flip(framee,1)\n",
    "    roi=framee[100:300, 100:300]\n",
    "    cv2.rectangle(framee,(100,100),(300,300),(0,255,0),0)    \n",
    "    hsv = cv2.cvtColor(roi, cv2.COLOR_BGR2HSV)\n",
    "\n",
    "    lower_skin = np.array([0,20,70], dtype=np.uint8)\n",
    "    upper_skin = np.array([20,255,255], dtype=np.uint8)\n",
    "    frame = cv2.inRange(hsv, lower_skin, upper_skin)\n",
    "    \n",
    "    kernel = np.ones((3,3),np.uint8)\n",
    "    frame = cv2.dilate(frame,kernel,iterations = 7)\n",
    "    frame = cv2.erode(frame,kernel,iterations = 3)\n",
    "    frame = cv2.GaussianBlur(frame,(5,5),100)\n",
    "    frame = cv2.resize(frame,(50,50))\n",
    "    cv2.imwrite('current.jpeg',frame)\n",
    "    x_test2=[]\n",
    "    x_test2.append(cv2.imread('current.jpeg'))\n",
    "    x_test2=tf.keras.utils.normalize(x_test2,axis=1)\n",
    "    predn=model.predict([x_test2])\n",
    "    indn=np.argmax(predn[0]);per=(predn[0])[indn];\n",
    "#     print(\"prediction :\", indn, \"\\n%surety    :\", per)\n",
    "    \n",
    "    cv2.imshow('lol',framee)\n",
    "    cv2.imshow('lol',frame)\n",
    "    time.sleep(0.1)\n",
    "    if(indn==ind):\n",
    "        ctr+=1\n",
    "        if(ctr>30):\n",
    "            ctr=0\n",
    "            print('\\n',indn,'\\n')\n",
    "            val=indn\n",
    "            if(val==0):\n",
    "                continue;\n",
    "            elif(val==1):\n",
    "                sp.call(['chrome.exe'])\n",
    "            elif(val==2):\n",
    "                continue;\n",
    "            elif(val==3):\n",
    "                continue;\n",
    "            elif(val==4):\n",
    "                break;\n",
    "            elif(val==5):\n",
    "                sp.call(['rundll32.exe', 'user32.dll,LockWorkStation'])\n",
    "            elif(val==6):\n",
    "                print(\"\\n\\n\\nHAAND NOT DETECTED\\n\\n\");\n",
    "            time.sleep(2)\n",
    "    else:\n",
    "        ctr=0\n",
    "    ind=indn\n",
    "    \n",
    "vs.stop()\n",
    "cv2.destroyAllWindows()"
   ]
  },
  {
   "cell_type": "code",
   "execution_count": null,
   "metadata": {},
   "outputs": [],
   "source": []
  }
 ],
 "metadata": {
  "kernelspec": {
   "display_name": "Python 3",
   "language": "python",
   "name": "python3"
  },
  "language_info": {
   "codemirror_mode": {
    "name": "ipython",
    "version": 3
   },
   "file_extension": ".py",
   "mimetype": "text/x-python",
   "name": "python",
   "nbconvert_exporter": "python",
   "pygments_lexer": "ipython3",
   "version": "3.6.6"
  }
 },
 "nbformat": 4,
 "nbformat_minor": 2
}
