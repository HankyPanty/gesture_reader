{
 "cells": [
  {
   "cell_type": "code",
   "execution_count": 1,
   "metadata": {},
   "outputs": [],
   "source": [
    "from imutils.video import VideoStream\n",
    "from imutils.video import FPS\n",
    "import numpy as np\n",
    "import argparse\n",
    "import imutils\n",
    "import time\n",
    "import cv2"
   ]
  },
  {
   "cell_type": "code",
   "execution_count": 4,
   "metadata": {
    "scrolled": true
   },
   "outputs": [
    {
     "name": "stdout",
     "output_type": "stream",
     "text": [
      "[INFO] starting video stream...\n",
      "next stage\n",
      "next stage\n",
      "next stage\n",
      "next stage\n",
      "next stage\n",
      "next stage\n"
     ]
    }
   ],
   "source": [
    "##########creating database\n",
    "\n",
    "print(\"[INFO] starting video stream...\")\n",
    "vs = VideoStream(src=0).start()\n",
    "time.sleep(2.0)\n",
    "# fps = FPS().start()\n",
    "i=0;\n",
    "\n",
    "while True:\n",
    "    \n",
    "    framee = vs.read()\n",
    "#     framee = imutils.resize(frame, width=400)\n",
    "#     fps.update()\n",
    "    framee=cv2.flip(framee,1)\n",
    "    roi=framee[100:300, 100:300]\n",
    "    cv2.rectangle(framee,(100,100),(300,300),(0,255,0),0)    \n",
    "    hsv = cv2.cvtColor(roi, cv2.COLOR_BGR2HSV)\n",
    "\n",
    "    lower_skin = np.array([0,20,70], dtype=np.uint8)\n",
    "    upper_skin = np.array([20,255,255], dtype=np.uint8)\n",
    "    frame = cv2.inRange(hsv, lower_skin, upper_skin)\n",
    "    \n",
    "    kernel = np.ones((3,3),np.uint8)\n",
    "    frame = cv2.dilate(frame,kernel,iterations = 7)\n",
    "    frame = cv2.erode(frame,kernel,iterations = 3)\n",
    "    frame = cv2.GaussianBlur(frame,(5,5),100)\n",
    "    frame = cv2.resize(frame,(50,50))\n",
    "    \n",
    "    cv2.imshow('lol',framee)\n",
    "    cv2.imshow('lol',frame)\n",
    "    \n",
    "    if(i==0 or i==100 or i==200 or i==300 or i==400 or i==500 or i==600):\n",
    "        print(\"next stage\")\n",
    "        time.sleep(5)\n",
    "    if(i<100):\n",
    "        locn=\"data/zero/\"+str(i)+\".jpeg\"\n",
    "        cv2.imwrite(locn,frame)\n",
    "    elif(i<200):\n",
    "        locn=\"data/one/\"+str(i)+\".jpeg\"\n",
    "        cv2.imwrite(locn,frame)\n",
    "    elif(i<300):\n",
    "        locn=\"data/two/\"+str(i)+\".jpeg\"\n",
    "        cv2.imwrite(locn,frame)\n",
    "    elif(i<400):\n",
    "        locn=\"data/three/\"+str(i)+\".jpeg\"\n",
    "        cv2.imwrite(locn,frame)\n",
    "    elif(i<500):\n",
    "        locn=\"data/four/\"+str(i)+\".jpeg\"\n",
    "        cv2.imwrite(locn,frame)\n",
    "    elif(i<600):\n",
    "        locn=\"data/five/\"+str(i)+\".jpeg\"\n",
    "        cv2.imwrite(locn,frame)\n",
    "    elif(i<700):\n",
    "        locn=\"data/thumb/\"+str(i)+\".jpeg\"\n",
    "        cv2.imwrite(locn,frame)\n",
    "#     elif(i<800):\n",
    "#         locn=\"data/nice/\"+str(i)+\".jpeg\"\n",
    "#         cv2.imwrite(locn,frame)\n",
    "    if(i>700):\n",
    "        break;\n",
    "    time.sleep(0.05)\n",
    "#     print(i)\n",
    "    i+=1\n",
    "\n",
    "# fps.stop()\n",
    "vs.stop()\n",
    "# print(\"[INFO] elapsed time: {:.2f}\".format(fps.elapsed()))\n",
    "# print(\"[INFO] approx. FPS: {:.2f}\".format(fps.fps()))\n",
    "\n",
    "# do a bit of cleanup\n",
    "cv2.destroyAllWindows()"
   ]
  },
  {
   "cell_type": "code",
   "execution_count": null,
   "metadata": {},
   "outputs": [],
   "source": []
  }
 ],
 "metadata": {
  "kernelspec": {
   "display_name": "Python 3",
   "language": "python",
   "name": "python3"
  },
  "language_info": {
   "codemirror_mode": {
    "name": "ipython",
    "version": 3
   },
   "file_extension": ".py",
   "mimetype": "text/x-python",
   "name": "python",
   "nbconvert_exporter": "python",
   "pygments_lexer": "ipython3",
   "version": "3.6.6"
  }
 },
 "nbformat": 4,
 "nbformat_minor": 2
}
